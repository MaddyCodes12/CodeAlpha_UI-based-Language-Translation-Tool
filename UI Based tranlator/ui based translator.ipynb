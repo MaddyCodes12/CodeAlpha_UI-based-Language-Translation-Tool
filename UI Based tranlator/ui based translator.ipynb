{
  "nbformat": 4,
  "nbformat_minor": 0,
  "metadata": {
    "colab": {
      "provenance": []
    },
    "kernelspec": {
      "name": "python3",
      "display_name": "Python 3"
    },
    "language_info": {
      "name": "python"
    },
    "widgets": {
      "application/vnd.jupyter.widget-state+json": {
        "04266c64351d405e92d53c77d415c690": {
          "model_module": "@jupyter-widgets/controls",
          "model_name": "DropdownModel",
          "model_module_version": "1.5.0",
          "state": {
            "_dom_classes": [],
            "_model_module": "@jupyter-widgets/controls",
            "_model_module_version": "1.5.0",
            "_model_name": "DropdownModel",
            "_options_labels": [
              "English",
              "Urdu",
              "Hindi"
            ],
            "_view_count": null,
            "_view_module": "@jupyter-widgets/controls",
            "_view_module_version": "1.5.0",
            "_view_name": "DropdownView",
            "description": "From:",
            "description_tooltip": null,
            "disabled": false,
            "index": 1,
            "layout": "IPY_MODEL_48aea5a382174b1b8ef53a0497d7aef0",
            "style": "IPY_MODEL_22d6351f0b144f9c9cd526be60f8f9f8"
          }
        },
        "48aea5a382174b1b8ef53a0497d7aef0": {
          "model_module": "@jupyter-widgets/base",
          "model_name": "LayoutModel",
          "model_module_version": "1.2.0",
          "state": {
            "_model_module": "@jupyter-widgets/base",
            "_model_module_version": "1.2.0",
            "_model_name": "LayoutModel",
            "_view_count": null,
            "_view_module": "@jupyter-widgets/base",
            "_view_module_version": "1.2.0",
            "_view_name": "LayoutView",
            "align_content": null,
            "align_items": null,
            "align_self": null,
            "border": null,
            "bottom": null,
            "display": null,
            "flex": null,
            "flex_flow": null,
            "grid_area": null,
            "grid_auto_columns": null,
            "grid_auto_flow": null,
            "grid_auto_rows": null,
            "grid_column": null,
            "grid_gap": null,
            "grid_row": null,
            "grid_template_areas": null,
            "grid_template_columns": null,
            "grid_template_rows": null,
            "height": null,
            "justify_content": null,
            "justify_items": null,
            "left": null,
            "margin": null,
            "max_height": null,
            "max_width": null,
            "min_height": null,
            "min_width": null,
            "object_fit": null,
            "object_position": null,
            "order": null,
            "overflow": null,
            "overflow_x": null,
            "overflow_y": null,
            "padding": null,
            "right": null,
            "top": null,
            "visibility": null,
            "width": null
          }
        },
        "22d6351f0b144f9c9cd526be60f8f9f8": {
          "model_module": "@jupyter-widgets/controls",
          "model_name": "DescriptionStyleModel",
          "model_module_version": "1.5.0",
          "state": {
            "_model_module": "@jupyter-widgets/controls",
            "_model_module_version": "1.5.0",
            "_model_name": "DescriptionStyleModel",
            "_view_count": null,
            "_view_module": "@jupyter-widgets/base",
            "_view_module_version": "1.2.0",
            "_view_name": "StyleView",
            "description_width": ""
          }
        },
        "2901a77747e14ac09a9867ef3c6b5d91": {
          "model_module": "@jupyter-widgets/controls",
          "model_name": "DropdownModel",
          "model_module_version": "1.5.0",
          "state": {
            "_dom_classes": [],
            "_model_module": "@jupyter-widgets/controls",
            "_model_module_version": "1.5.0",
            "_model_name": "DropdownModel",
            "_options_labels": [
              "Urdu",
              "Hindi",
              "English"
            ],
            "_view_count": null,
            "_view_module": "@jupyter-widgets/controls",
            "_view_module_version": "1.5.0",
            "_view_name": "DropdownView",
            "description": "To:",
            "description_tooltip": null,
            "disabled": false,
            "index": 2,
            "layout": "IPY_MODEL_852c9c623153429b8ae28ae992534729",
            "style": "IPY_MODEL_5a033640cdf04c91bfdb76d020558a10"
          }
        },
        "852c9c623153429b8ae28ae992534729": {
          "model_module": "@jupyter-widgets/base",
          "model_name": "LayoutModel",
          "model_module_version": "1.2.0",
          "state": {
            "_model_module": "@jupyter-widgets/base",
            "_model_module_version": "1.2.0",
            "_model_name": "LayoutModel",
            "_view_count": null,
            "_view_module": "@jupyter-widgets/base",
            "_view_module_version": "1.2.0",
            "_view_name": "LayoutView",
            "align_content": null,
            "align_items": null,
            "align_self": null,
            "border": null,
            "bottom": null,
            "display": null,
            "flex": null,
            "flex_flow": null,
            "grid_area": null,
            "grid_auto_columns": null,
            "grid_auto_flow": null,
            "grid_auto_rows": null,
            "grid_column": null,
            "grid_gap": null,
            "grid_row": null,
            "grid_template_areas": null,
            "grid_template_columns": null,
            "grid_template_rows": null,
            "height": null,
            "justify_content": null,
            "justify_items": null,
            "left": null,
            "margin": null,
            "max_height": null,
            "max_width": null,
            "min_height": null,
            "min_width": null,
            "object_fit": null,
            "object_position": null,
            "order": null,
            "overflow": null,
            "overflow_x": null,
            "overflow_y": null,
            "padding": null,
            "right": null,
            "top": null,
            "visibility": null,
            "width": null
          }
        },
        "5a033640cdf04c91bfdb76d020558a10": {
          "model_module": "@jupyter-widgets/controls",
          "model_name": "DescriptionStyleModel",
          "model_module_version": "1.5.0",
          "state": {
            "_model_module": "@jupyter-widgets/controls",
            "_model_module_version": "1.5.0",
            "_model_name": "DescriptionStyleModel",
            "_view_count": null,
            "_view_module": "@jupyter-widgets/base",
            "_view_module_version": "1.2.0",
            "_view_name": "StyleView",
            "description_width": ""
          }
        },
        "eb9fe6aabbde40f08a7db4320fc5a41a": {
          "model_module": "@jupyter-widgets/controls",
          "model_name": "TextareaModel",
          "model_module_version": "1.5.0",
          "state": {
            "_dom_classes": [],
            "_model_module": "@jupyter-widgets/controls",
            "_model_module_version": "1.5.0",
            "_model_name": "TextareaModel",
            "_view_count": null,
            "_view_module": "@jupyter-widgets/controls",
            "_view_module_version": "1.5.0",
            "_view_name": "TextareaView",
            "continuous_update": true,
            "description": "",
            "description_tooltip": null,
            "disabled": false,
            "layout": "IPY_MODEL_bc959a1271e9482081f9391635c30a74",
            "placeholder": "Enter text to translate...",
            "rows": null,
            "style": "IPY_MODEL_97bd9196be3e4a43af3e24cc5a8d5752",
            "value": "sun? kl ka din free ha?"
          }
        },
        "bc959a1271e9482081f9391635c30a74": {
          "model_module": "@jupyter-widgets/base",
          "model_name": "LayoutModel",
          "model_module_version": "1.2.0",
          "state": {
            "_model_module": "@jupyter-widgets/base",
            "_model_module_version": "1.2.0",
            "_model_name": "LayoutModel",
            "_view_count": null,
            "_view_module": "@jupyter-widgets/base",
            "_view_module_version": "1.2.0",
            "_view_name": "LayoutView",
            "align_content": null,
            "align_items": null,
            "align_self": null,
            "border": null,
            "bottom": null,
            "display": null,
            "flex": null,
            "flex_flow": null,
            "grid_area": null,
            "grid_auto_columns": null,
            "grid_auto_flow": null,
            "grid_auto_rows": null,
            "grid_column": null,
            "grid_gap": null,
            "grid_row": null,
            "grid_template_areas": null,
            "grid_template_columns": null,
            "grid_template_rows": null,
            "height": "100px",
            "justify_content": null,
            "justify_items": null,
            "left": null,
            "margin": null,
            "max_height": null,
            "max_width": null,
            "min_height": null,
            "min_width": null,
            "object_fit": null,
            "object_position": null,
            "order": null,
            "overflow": null,
            "overflow_x": null,
            "overflow_y": null,
            "padding": null,
            "right": null,
            "top": null,
            "visibility": null,
            "width": "100%"
          }
        },
        "97bd9196be3e4a43af3e24cc5a8d5752": {
          "model_module": "@jupyter-widgets/controls",
          "model_name": "DescriptionStyleModel",
          "model_module_version": "1.5.0",
          "state": {
            "_model_module": "@jupyter-widgets/controls",
            "_model_module_version": "1.5.0",
            "_model_name": "DescriptionStyleModel",
            "_view_count": null,
            "_view_module": "@jupyter-widgets/base",
            "_view_module_version": "1.2.0",
            "_view_name": "StyleView",
            "description_width": ""
          }
        },
        "4ef04cb3b0ba4f15b998d36ba97803fb": {
          "model_module": "@jupyter-widgets/controls",
          "model_name": "ButtonModel",
          "model_module_version": "1.5.0",
          "state": {
            "_dom_classes": [],
            "_model_module": "@jupyter-widgets/controls",
            "_model_module_version": "1.5.0",
            "_model_name": "ButtonModel",
            "_view_count": null,
            "_view_module": "@jupyter-widgets/controls",
            "_view_module_version": "1.5.0",
            "_view_name": "ButtonView",
            "button_style": "success",
            "description": "Translate",
            "disabled": false,
            "icon": "",
            "layout": "IPY_MODEL_f87d66840b014efcb96bf438ba5ce65a",
            "style": "IPY_MODEL_f0ac2182e28d459199195c5862a7d836",
            "tooltip": ""
          }
        },
        "f87d66840b014efcb96bf438ba5ce65a": {
          "model_module": "@jupyter-widgets/base",
          "model_name": "LayoutModel",
          "model_module_version": "1.2.0",
          "state": {
            "_model_module": "@jupyter-widgets/base",
            "_model_module_version": "1.2.0",
            "_model_name": "LayoutModel",
            "_view_count": null,
            "_view_module": "@jupyter-widgets/base",
            "_view_module_version": "1.2.0",
            "_view_name": "LayoutView",
            "align_content": null,
            "align_items": null,
            "align_self": null,
            "border": null,
            "bottom": null,
            "display": null,
            "flex": null,
            "flex_flow": null,
            "grid_area": null,
            "grid_auto_columns": null,
            "grid_auto_flow": null,
            "grid_auto_rows": null,
            "grid_column": null,
            "grid_gap": null,
            "grid_row": null,
            "grid_template_areas": null,
            "grid_template_columns": null,
            "grid_template_rows": null,
            "height": null,
            "justify_content": null,
            "justify_items": null,
            "left": null,
            "margin": null,
            "max_height": null,
            "max_width": null,
            "min_height": null,
            "min_width": null,
            "object_fit": null,
            "object_position": null,
            "order": null,
            "overflow": null,
            "overflow_x": null,
            "overflow_y": null,
            "padding": null,
            "right": null,
            "top": null,
            "visibility": null,
            "width": null
          }
        },
        "f0ac2182e28d459199195c5862a7d836": {
          "model_module": "@jupyter-widgets/controls",
          "model_name": "ButtonStyleModel",
          "model_module_version": "1.5.0",
          "state": {
            "_model_module": "@jupyter-widgets/controls",
            "_model_module_version": "1.5.0",
            "_model_name": "ButtonStyleModel",
            "_view_count": null,
            "_view_module": "@jupyter-widgets/base",
            "_view_module_version": "1.2.0",
            "_view_name": "StyleView",
            "button_color": null,
            "font_weight": ""
          }
        },
        "3df38294a9234ff3baa88814efbd6fc5": {
          "model_module": "@jupyter-widgets/controls",
          "model_name": "LabelModel",
          "model_module_version": "1.5.0",
          "state": {
            "_dom_classes": [],
            "_model_module": "@jupyter-widgets/controls",
            "_model_module_version": "1.5.0",
            "_model_name": "LabelModel",
            "_view_count": null,
            "_view_module": "@jupyter-widgets/controls",
            "_view_module_version": "1.5.0",
            "_view_name": "LabelView",
            "description": "",
            "description_tooltip": null,
            "layout": "IPY_MODEL_5158309aa6f34289ae2f5dd8f292d06e",
            "placeholder": "​",
            "style": "IPY_MODEL_ae55281bde9c4b70ab9eeff8c54c1b5d",
            "value": "Translated Text (en): Listen?Tomorrow's day free?"
          }
        },
        "5158309aa6f34289ae2f5dd8f292d06e": {
          "model_module": "@jupyter-widgets/base",
          "model_name": "LayoutModel",
          "model_module_version": "1.2.0",
          "state": {
            "_model_module": "@jupyter-widgets/base",
            "_model_module_version": "1.2.0",
            "_model_name": "LayoutModel",
            "_view_count": null,
            "_view_module": "@jupyter-widgets/base",
            "_view_module_version": "1.2.0",
            "_view_name": "LayoutView",
            "align_content": null,
            "align_items": null,
            "align_self": null,
            "border": null,
            "bottom": null,
            "display": null,
            "flex": null,
            "flex_flow": null,
            "grid_area": null,
            "grid_auto_columns": null,
            "grid_auto_flow": null,
            "grid_auto_rows": null,
            "grid_column": null,
            "grid_gap": null,
            "grid_row": null,
            "grid_template_areas": null,
            "grid_template_columns": null,
            "grid_template_rows": null,
            "height": null,
            "justify_content": null,
            "justify_items": null,
            "left": null,
            "margin": null,
            "max_height": null,
            "max_width": null,
            "min_height": null,
            "min_width": null,
            "object_fit": null,
            "object_position": null,
            "order": null,
            "overflow": null,
            "overflow_x": null,
            "overflow_y": null,
            "padding": null,
            "right": null,
            "top": null,
            "visibility": null,
            "width": null
          }
        },
        "ae55281bde9c4b70ab9eeff8c54c1b5d": {
          "model_module": "@jupyter-widgets/controls",
          "model_name": "DescriptionStyleModel",
          "model_module_version": "1.5.0",
          "state": {
            "_model_module": "@jupyter-widgets/controls",
            "_model_module_version": "1.5.0",
            "_model_name": "DescriptionStyleModel",
            "_view_count": null,
            "_view_module": "@jupyter-widgets/base",
            "_view_module_version": "1.2.0",
            "_view_name": "StyleView",
            "description_width": ""
          }
        }
      }
    }
  },
  "cells": [
    {
      "cell_type": "code",
      "source": [
        "!pip install googletrans==4.0.0-rc1 pyttsx3\n"
      ],
      "metadata": {
        "colab": {
          "base_uri": "https://localhost:8080/"
        },
        "id": "EK3YqMBUWAYt",
        "outputId": "2410a5d3-ada3-4e1b-99dd-fb48e03d388c"
      },
      "execution_count": 2,
      "outputs": [
        {
          "output_type": "stream",
          "name": "stdout",
          "text": [
            "Collecting googletrans==4.0.0-rc1\n",
            "  Downloading googletrans-4.0.0rc1.tar.gz (20 kB)\n",
            "  Preparing metadata (setup.py) ... \u001b[?25l\u001b[?25hdone\n",
            "Collecting pyttsx3\n",
            "  Downloading pyttsx3-2.98-py3-none-any.whl.metadata (3.8 kB)\n",
            "Collecting httpx==0.13.3 (from googletrans==4.0.0-rc1)\n",
            "  Downloading httpx-0.13.3-py3-none-any.whl.metadata (25 kB)\n",
            "Requirement already satisfied: certifi in /usr/local/lib/python3.11/dist-packages (from httpx==0.13.3->googletrans==4.0.0-rc1) (2024.12.14)\n",
            "Collecting hstspreload (from httpx==0.13.3->googletrans==4.0.0-rc1)\n",
            "  Downloading hstspreload-2025.1.1-py3-none-any.whl.metadata (2.1 kB)\n",
            "Requirement already satisfied: sniffio in /usr/local/lib/python3.11/dist-packages (from httpx==0.13.3->googletrans==4.0.0-rc1) (1.3.1)\n",
            "Collecting chardet==3.* (from httpx==0.13.3->googletrans==4.0.0-rc1)\n",
            "  Downloading chardet-3.0.4-py2.py3-none-any.whl.metadata (3.2 kB)\n",
            "Collecting idna==2.* (from httpx==0.13.3->googletrans==4.0.0-rc1)\n",
            "  Downloading idna-2.10-py2.py3-none-any.whl.metadata (9.1 kB)\n",
            "Collecting rfc3986<2,>=1.3 (from httpx==0.13.3->googletrans==4.0.0-rc1)\n",
            "  Downloading rfc3986-1.5.0-py2.py3-none-any.whl.metadata (6.5 kB)\n",
            "Collecting httpcore==0.9.* (from httpx==0.13.3->googletrans==4.0.0-rc1)\n",
            "  Downloading httpcore-0.9.1-py3-none-any.whl.metadata (4.6 kB)\n",
            "Collecting h11<0.10,>=0.8 (from httpcore==0.9.*->httpx==0.13.3->googletrans==4.0.0-rc1)\n",
            "  Downloading h11-0.9.0-py2.py3-none-any.whl.metadata (8.1 kB)\n",
            "Collecting h2==3.* (from httpcore==0.9.*->httpx==0.13.3->googletrans==4.0.0-rc1)\n",
            "  Downloading h2-3.2.0-py2.py3-none-any.whl.metadata (32 kB)\n",
            "Collecting hyperframe<6,>=5.2.0 (from h2==3.*->httpcore==0.9.*->httpx==0.13.3->googletrans==4.0.0-rc1)\n",
            "  Downloading hyperframe-5.2.0-py2.py3-none-any.whl.metadata (7.2 kB)\n",
            "Collecting hpack<4,>=3.0 (from h2==3.*->httpcore==0.9.*->httpx==0.13.3->googletrans==4.0.0-rc1)\n",
            "  Downloading hpack-3.0.0-py2.py3-none-any.whl.metadata (7.0 kB)\n",
            "Downloading httpx-0.13.3-py3-none-any.whl (55 kB)\n",
            "\u001b[2K   \u001b[90m━━━━━━━━━━━━━━━━━━━━━━━━━━━━━━━━━━━━━━━━\u001b[0m \u001b[32m55.1/55.1 kB\u001b[0m \u001b[31m3.8 MB/s\u001b[0m eta \u001b[36m0:00:00\u001b[0m\n",
            "\u001b[?25hDownloading chardet-3.0.4-py2.py3-none-any.whl (133 kB)\n",
            "\u001b[2K   \u001b[90m━━━━━━━━━━━━━━━━━━━━━━━━━━━━━━━━━━━━━━━━\u001b[0m \u001b[32m133.4/133.4 kB\u001b[0m \u001b[31m8.0 MB/s\u001b[0m eta \u001b[36m0:00:00\u001b[0m\n",
            "\u001b[?25hDownloading httpcore-0.9.1-py3-none-any.whl (42 kB)\n",
            "\u001b[2K   \u001b[90m━━━━━━━━━━━━━━━━━━━━━━━━━━━━━━━━━━━━━━━━\u001b[0m \u001b[32m42.6/42.6 kB\u001b[0m \u001b[31m2.5 MB/s\u001b[0m eta \u001b[36m0:00:00\u001b[0m\n",
            "\u001b[?25hDownloading idna-2.10-py2.py3-none-any.whl (58 kB)\n",
            "\u001b[2K   \u001b[90m━━━━━━━━━━━━━━━━━━━━━━━━━━━━━━━━━━━━━━━━\u001b[0m \u001b[32m58.8/58.8 kB\u001b[0m \u001b[31m4.9 MB/s\u001b[0m eta \u001b[36m0:00:00\u001b[0m\n",
            "\u001b[?25hDownloading h2-3.2.0-py2.py3-none-any.whl (65 kB)\n",
            "\u001b[2K   \u001b[90m━━━━━━━━━━━━━━━━━━━━━━━━━━━━━━━━━━━━━━━━\u001b[0m \u001b[32m65.0/65.0 kB\u001b[0m \u001b[31m4.6 MB/s\u001b[0m eta \u001b[36m0:00:00\u001b[0m\n",
            "\u001b[?25hDownloading pyttsx3-2.98-py3-none-any.whl (34 kB)\n",
            "Downloading rfc3986-1.5.0-py2.py3-none-any.whl (31 kB)\n",
            "Downloading hstspreload-2025.1.1-py3-none-any.whl (1.3 MB)\n",
            "\u001b[2K   \u001b[90m━━━━━━━━━━━━━━━━━━━━━━━━━━━━━━━━━━━━━━━━\u001b[0m \u001b[32m1.3/1.3 MB\u001b[0m \u001b[31m43.5 MB/s\u001b[0m eta \u001b[36m0:00:00\u001b[0m\n",
            "\u001b[?25hDownloading h11-0.9.0-py2.py3-none-any.whl (53 kB)\n",
            "\u001b[2K   \u001b[90m━━━━━━━━━━━━━━━━━━━━━━━━━━━━━━━━━━━━━━━━\u001b[0m \u001b[32m53.6/53.6 kB\u001b[0m \u001b[31m3.5 MB/s\u001b[0m eta \u001b[36m0:00:00\u001b[0m\n",
            "\u001b[?25hDownloading hpack-3.0.0-py2.py3-none-any.whl (38 kB)\n",
            "Downloading hyperframe-5.2.0-py2.py3-none-any.whl (12 kB)\n",
            "Building wheels for collected packages: googletrans\n",
            "  Building wheel for googletrans (setup.py) ... \u001b[?25l\u001b[?25hdone\n",
            "  Created wheel for googletrans: filename=googletrans-4.0.0rc1-py3-none-any.whl size=17397 sha256=a74dd8e5b40d60721c05dd4891692bd5a7d5d216dd63ba281f5f194534358246\n",
            "  Stored in directory: /root/.cache/pip/wheels/39/17/6f/66a045ea3d168826074691b4b787b8f324d3f646d755443fda\n",
            "Successfully built googletrans\n",
            "Installing collected packages: rfc3986, pyttsx3, hyperframe, hpack, h11, chardet, idna, hstspreload, h2, httpcore, httpx, googletrans\n",
            "  Attempting uninstall: h11\n",
            "    Found existing installation: h11 0.14.0\n",
            "    Uninstalling h11-0.14.0:\n",
            "      Successfully uninstalled h11-0.14.0\n",
            "  Attempting uninstall: chardet\n",
            "    Found existing installation: chardet 5.2.0\n",
            "    Uninstalling chardet-5.2.0:\n",
            "      Successfully uninstalled chardet-5.2.0\n",
            "  Attempting uninstall: idna\n",
            "    Found existing installation: idna 3.10\n",
            "    Uninstalling idna-3.10:\n",
            "      Successfully uninstalled idna-3.10\n",
            "  Attempting uninstall: httpcore\n",
            "    Found existing installation: httpcore 1.0.7\n",
            "    Uninstalling httpcore-1.0.7:\n",
            "      Successfully uninstalled httpcore-1.0.7\n",
            "  Attempting uninstall: httpx\n",
            "    Found existing installation: httpx 0.28.1\n",
            "    Uninstalling httpx-0.28.1:\n",
            "      Successfully uninstalled httpx-0.28.1\n",
            "\u001b[31mERROR: pip's dependency resolver does not currently take into account all the packages that are installed. This behaviour is the source of the following dependency conflicts.\n",
            "openai 1.59.9 requires httpx<1,>=0.23.0, but you have httpx 0.13.3 which is incompatible.\n",
            "langsmith 0.3.2 requires httpx<1,>=0.23.0, but you have httpx 0.13.3 which is incompatible.\u001b[0m\u001b[31m\n",
            "\u001b[0mSuccessfully installed chardet-3.0.4 googletrans-4.0.0rc1 h11-0.9.0 h2-3.2.0 hpack-3.0.0 hstspreload-2025.1.1 httpcore-0.9.1 httpx-0.13.3 hyperframe-5.2.0 idna-2.10 pyttsx3-2.98 rfc3986-1.5.0\n"
          ]
        }
      ]
    },
    {
      "cell_type": "code",
      "source": [
        "!apt-get install espeak\n",
        "!pip install googletrans==4.0.0-rc1 gtts ipywidgets speechrecognition pyaudio\n"
      ],
      "metadata": {
        "colab": {
          "base_uri": "https://localhost:8080/"
        },
        "id": "j_fUzrP6WQbR",
        "outputId": "fd5adc80-d953-4910-80a5-7e9f11311431"
      },
      "execution_count": 6,
      "outputs": [
        {
          "output_type": "stream",
          "name": "stdout",
          "text": [
            "Reading package lists... Done\n",
            "Building dependency tree... Done\n",
            "Reading state information... Done\n",
            "espeak is already the newest version (1.48.15+dfsg-3).\n",
            "0 upgraded, 0 newly installed, 0 to remove and 18 not upgraded.\n",
            "Requirement already satisfied: googletrans==4.0.0-rc1 in /usr/local/lib/python3.11/dist-packages (4.0.0rc1)\n",
            "Collecting gtts\n",
            "  Downloading gTTS-2.5.4-py3-none-any.whl.metadata (4.1 kB)\n",
            "Requirement already satisfied: ipywidgets in /usr/local/lib/python3.11/dist-packages (7.7.1)\n",
            "Collecting speechrecognition\n",
            "  Downloading SpeechRecognition-3.14.1-py3-none-any.whl.metadata (31 kB)\n",
            "Collecting pyaudio\n",
            "  Downloading PyAudio-0.2.14.tar.gz (47 kB)\n",
            "\u001b[2K     \u001b[90m━━━━━━━━━━━━━━━━━━━━━━━━━━━━━━━━━━━━━━━━\u001b[0m \u001b[32m47.1/47.1 kB\u001b[0m \u001b[31m2.6 MB/s\u001b[0m eta \u001b[36m0:00:00\u001b[0m\n",
            "\u001b[?25h  Installing build dependencies ... \u001b[?25l\u001b[?25hdone\n",
            "  Getting requirements to build wheel ... \u001b[?25l\u001b[?25hdone\n",
            "  Preparing metadata (pyproject.toml) ... \u001b[?25l\u001b[?25hdone\n",
            "Requirement already satisfied: httpx==0.13.3 in /usr/local/lib/python3.11/dist-packages (from googletrans==4.0.0-rc1) (0.13.3)\n",
            "Requirement already satisfied: certifi in /usr/local/lib/python3.11/dist-packages (from httpx==0.13.3->googletrans==4.0.0-rc1) (2024.12.14)\n",
            "Requirement already satisfied: hstspreload in /usr/local/lib/python3.11/dist-packages (from httpx==0.13.3->googletrans==4.0.0-rc1) (2025.1.1)\n",
            "Requirement already satisfied: sniffio in /usr/local/lib/python3.11/dist-packages (from httpx==0.13.3->googletrans==4.0.0-rc1) (1.3.1)\n",
            "Requirement already satisfied: chardet==3.* in /usr/local/lib/python3.11/dist-packages (from httpx==0.13.3->googletrans==4.0.0-rc1) (3.0.4)\n",
            "Requirement already satisfied: idna==2.* in /usr/local/lib/python3.11/dist-packages (from httpx==0.13.3->googletrans==4.0.0-rc1) (2.10)\n",
            "Requirement already satisfied: rfc3986<2,>=1.3 in /usr/local/lib/python3.11/dist-packages (from httpx==0.13.3->googletrans==4.0.0-rc1) (1.5.0)\n",
            "Requirement already satisfied: httpcore==0.9.* in /usr/local/lib/python3.11/dist-packages (from httpx==0.13.3->googletrans==4.0.0-rc1) (0.9.1)\n",
            "Requirement already satisfied: h11<0.10,>=0.8 in /usr/local/lib/python3.11/dist-packages (from httpcore==0.9.*->httpx==0.13.3->googletrans==4.0.0-rc1) (0.9.0)\n",
            "Requirement already satisfied: h2==3.* in /usr/local/lib/python3.11/dist-packages (from httpcore==0.9.*->httpx==0.13.3->googletrans==4.0.0-rc1) (3.2.0)\n",
            "Requirement already satisfied: hyperframe<6,>=5.2.0 in /usr/local/lib/python3.11/dist-packages (from h2==3.*->httpcore==0.9.*->httpx==0.13.3->googletrans==4.0.0-rc1) (5.2.0)\n",
            "Requirement already satisfied: hpack<4,>=3.0 in /usr/local/lib/python3.11/dist-packages (from h2==3.*->httpcore==0.9.*->httpx==0.13.3->googletrans==4.0.0-rc1) (3.0.0)\n",
            "Requirement already satisfied: requests<3,>=2.27 in /usr/local/lib/python3.11/dist-packages (from gtts) (2.32.3)\n",
            "Requirement already satisfied: click<8.2,>=7.1 in /usr/local/lib/python3.11/dist-packages (from gtts) (8.1.8)\n",
            "Requirement already satisfied: ipykernel>=4.5.1 in /usr/local/lib/python3.11/dist-packages (from ipywidgets) (5.5.6)\n",
            "Requirement already satisfied: ipython-genutils~=0.2.0 in /usr/local/lib/python3.11/dist-packages (from ipywidgets) (0.2.0)\n",
            "Requirement already satisfied: traitlets>=4.3.1 in /usr/local/lib/python3.11/dist-packages (from ipywidgets) (5.7.1)\n",
            "Requirement already satisfied: widgetsnbextension~=3.6.0 in /usr/local/lib/python3.11/dist-packages (from ipywidgets) (3.6.10)\n",
            "Requirement already satisfied: ipython>=4.0.0 in /usr/local/lib/python3.11/dist-packages (from ipywidgets) (7.34.0)\n",
            "Requirement already satisfied: jupyterlab-widgets>=1.0.0 in /usr/local/lib/python3.11/dist-packages (from ipywidgets) (3.0.13)\n",
            "Requirement already satisfied: typing-extensions in /usr/local/lib/python3.11/dist-packages (from speechrecognition) (4.12.2)\n",
            "Requirement already satisfied: jupyter-client in /usr/local/lib/python3.11/dist-packages (from ipykernel>=4.5.1->ipywidgets) (6.1.12)\n",
            "Requirement already satisfied: tornado>=4.2 in /usr/local/lib/python3.11/dist-packages (from ipykernel>=4.5.1->ipywidgets) (6.4.2)\n",
            "Requirement already satisfied: setuptools>=18.5 in /usr/local/lib/python3.11/dist-packages (from ipython>=4.0.0->ipywidgets) (75.1.0)\n",
            "Collecting jedi>=0.16 (from ipython>=4.0.0->ipywidgets)\n",
            "  Downloading jedi-0.19.2-py2.py3-none-any.whl.metadata (22 kB)\n",
            "Requirement already satisfied: decorator in /usr/local/lib/python3.11/dist-packages (from ipython>=4.0.0->ipywidgets) (4.4.2)\n",
            "Requirement already satisfied: pickleshare in /usr/local/lib/python3.11/dist-packages (from ipython>=4.0.0->ipywidgets) (0.7.5)\n",
            "Requirement already satisfied: prompt-toolkit!=3.0.0,!=3.0.1,<3.1.0,>=2.0.0 in /usr/local/lib/python3.11/dist-packages (from ipython>=4.0.0->ipywidgets) (3.0.50)\n",
            "Requirement already satisfied: pygments in /usr/local/lib/python3.11/dist-packages (from ipython>=4.0.0->ipywidgets) (2.18.0)\n",
            "Requirement already satisfied: backcall in /usr/local/lib/python3.11/dist-packages (from ipython>=4.0.0->ipywidgets) (0.2.0)\n",
            "Requirement already satisfied: matplotlib-inline in /usr/local/lib/python3.11/dist-packages (from ipython>=4.0.0->ipywidgets) (0.1.7)\n",
            "Requirement already satisfied: pexpect>4.3 in /usr/local/lib/python3.11/dist-packages (from ipython>=4.0.0->ipywidgets) (4.9.0)\n",
            "Requirement already satisfied: charset-normalizer<4,>=2 in /usr/local/lib/python3.11/dist-packages (from requests<3,>=2.27->gtts) (3.4.1)\n",
            "Requirement already satisfied: urllib3<3,>=1.21.1 in /usr/local/lib/python3.11/dist-packages (from requests<3,>=2.27->gtts) (2.3.0)\n",
            "Requirement already satisfied: notebook>=4.4.1 in /usr/local/lib/python3.11/dist-packages (from widgetsnbextension~=3.6.0->ipywidgets) (6.5.5)\n",
            "Requirement already satisfied: parso<0.9.0,>=0.8.4 in /usr/local/lib/python3.11/dist-packages (from jedi>=0.16->ipython>=4.0.0->ipywidgets) (0.8.4)\n",
            "Requirement already satisfied: jinja2 in /usr/local/lib/python3.11/dist-packages (from notebook>=4.4.1->widgetsnbextension~=3.6.0->ipywidgets) (3.1.5)\n",
            "Requirement already satisfied: pyzmq<25,>=17 in /usr/local/lib/python3.11/dist-packages (from notebook>=4.4.1->widgetsnbextension~=3.6.0->ipywidgets) (24.0.1)\n",
            "Requirement already satisfied: argon2-cffi in /usr/local/lib/python3.11/dist-packages (from notebook>=4.4.1->widgetsnbextension~=3.6.0->ipywidgets) (23.1.0)\n",
            "Requirement already satisfied: jupyter-core>=4.6.1 in /usr/local/lib/python3.11/dist-packages (from notebook>=4.4.1->widgetsnbextension~=3.6.0->ipywidgets) (5.7.2)\n",
            "Requirement already satisfied: nbformat in /usr/local/lib/python3.11/dist-packages (from notebook>=4.4.1->widgetsnbextension~=3.6.0->ipywidgets) (5.10.4)\n",
            "Requirement already satisfied: nbconvert>=5 in /usr/local/lib/python3.11/dist-packages (from notebook>=4.4.1->widgetsnbextension~=3.6.0->ipywidgets) (7.16.6)\n",
            "Requirement already satisfied: nest-asyncio>=1.5 in /usr/local/lib/python3.11/dist-packages (from notebook>=4.4.1->widgetsnbextension~=3.6.0->ipywidgets) (1.6.0)\n",
            "Requirement already satisfied: Send2Trash>=1.8.0 in /usr/local/lib/python3.11/dist-packages (from notebook>=4.4.1->widgetsnbextension~=3.6.0->ipywidgets) (1.8.3)\n",
            "Requirement already satisfied: terminado>=0.8.3 in /usr/local/lib/python3.11/dist-packages (from notebook>=4.4.1->widgetsnbextension~=3.6.0->ipywidgets) (0.18.1)\n",
            "Requirement already satisfied: prometheus-client in /usr/local/lib/python3.11/dist-packages (from notebook>=4.4.1->widgetsnbextension~=3.6.0->ipywidgets) (0.21.1)\n",
            "Requirement already satisfied: nbclassic>=0.4.7 in /usr/local/lib/python3.11/dist-packages (from notebook>=4.4.1->widgetsnbextension~=3.6.0->ipywidgets) (1.2.0)\n",
            "Requirement already satisfied: python-dateutil>=2.1 in /usr/local/lib/python3.11/dist-packages (from jupyter-client->ipykernel>=4.5.1->ipywidgets) (2.8.2)\n",
            "Requirement already satisfied: ptyprocess>=0.5 in /usr/local/lib/python3.11/dist-packages (from pexpect>4.3->ipython>=4.0.0->ipywidgets) (0.7.0)\n",
            "Requirement already satisfied: wcwidth in /usr/local/lib/python3.11/dist-packages (from prompt-toolkit!=3.0.0,!=3.0.1,<3.1.0,>=2.0.0->ipython>=4.0.0->ipywidgets) (0.2.13)\n",
            "Requirement already satisfied: platformdirs>=2.5 in /usr/local/lib/python3.11/dist-packages (from jupyter-core>=4.6.1->notebook>=4.4.1->widgetsnbextension~=3.6.0->ipywidgets) (4.3.6)\n",
            "Requirement already satisfied: notebook-shim>=0.2.3 in /usr/local/lib/python3.11/dist-packages (from nbclassic>=0.4.7->notebook>=4.4.1->widgetsnbextension~=3.6.0->ipywidgets) (0.2.4)\n",
            "Requirement already satisfied: beautifulsoup4 in /usr/local/lib/python3.11/dist-packages (from nbconvert>=5->notebook>=4.4.1->widgetsnbextension~=3.6.0->ipywidgets) (4.12.3)\n",
            "Requirement already satisfied: bleach!=5.0.0 in /usr/local/lib/python3.11/dist-packages (from bleach[css]!=5.0.0->nbconvert>=5->notebook>=4.4.1->widgetsnbextension~=3.6.0->ipywidgets) (6.2.0)\n",
            "Requirement already satisfied: defusedxml in /usr/local/lib/python3.11/dist-packages (from nbconvert>=5->notebook>=4.4.1->widgetsnbextension~=3.6.0->ipywidgets) (0.7.1)\n",
            "Requirement already satisfied: jupyterlab-pygments in /usr/local/lib/python3.11/dist-packages (from nbconvert>=5->notebook>=4.4.1->widgetsnbextension~=3.6.0->ipywidgets) (0.3.0)\n",
            "Requirement already satisfied: markupsafe>=2.0 in /usr/local/lib/python3.11/dist-packages (from nbconvert>=5->notebook>=4.4.1->widgetsnbextension~=3.6.0->ipywidgets) (3.0.2)\n",
            "Requirement already satisfied: mistune<4,>=2.0.3 in /usr/local/lib/python3.11/dist-packages (from nbconvert>=5->notebook>=4.4.1->widgetsnbextension~=3.6.0->ipywidgets) (3.1.1)\n",
            "Requirement already satisfied: nbclient>=0.5.0 in /usr/local/lib/python3.11/dist-packages (from nbconvert>=5->notebook>=4.4.1->widgetsnbextension~=3.6.0->ipywidgets) (0.10.2)\n",
            "Requirement already satisfied: packaging in /usr/local/lib/python3.11/dist-packages (from nbconvert>=5->notebook>=4.4.1->widgetsnbextension~=3.6.0->ipywidgets) (24.2)\n",
            "Requirement already satisfied: pandocfilters>=1.4.1 in /usr/local/lib/python3.11/dist-packages (from nbconvert>=5->notebook>=4.4.1->widgetsnbextension~=3.6.0->ipywidgets) (1.5.1)\n",
            "Requirement already satisfied: fastjsonschema>=2.15 in /usr/local/lib/python3.11/dist-packages (from nbformat->notebook>=4.4.1->widgetsnbextension~=3.6.0->ipywidgets) (2.21.1)\n",
            "Requirement already satisfied: jsonschema>=2.6 in /usr/local/lib/python3.11/dist-packages (from nbformat->notebook>=4.4.1->widgetsnbextension~=3.6.0->ipywidgets) (4.23.0)\n",
            "Requirement already satisfied: six>=1.5 in /usr/local/lib/python3.11/dist-packages (from python-dateutil>=2.1->jupyter-client->ipykernel>=4.5.1->ipywidgets) (1.17.0)\n",
            "Requirement already satisfied: argon2-cffi-bindings in /usr/local/lib/python3.11/dist-packages (from argon2-cffi->notebook>=4.4.1->widgetsnbextension~=3.6.0->ipywidgets) (21.2.0)\n",
            "Requirement already satisfied: webencodings in /usr/local/lib/python3.11/dist-packages (from bleach!=5.0.0->bleach[css]!=5.0.0->nbconvert>=5->notebook>=4.4.1->widgetsnbextension~=3.6.0->ipywidgets) (0.5.1)\n",
            "Requirement already satisfied: tinycss2<1.5,>=1.1.0 in /usr/local/lib/python3.11/dist-packages (from bleach[css]!=5.0.0->nbconvert>=5->notebook>=4.4.1->widgetsnbextension~=3.6.0->ipywidgets) (1.4.0)\n",
            "Requirement already satisfied: attrs>=22.2.0 in /usr/local/lib/python3.11/dist-packages (from jsonschema>=2.6->nbformat->notebook>=4.4.1->widgetsnbextension~=3.6.0->ipywidgets) (25.1.0)\n",
            "Requirement already satisfied: jsonschema-specifications>=2023.03.6 in /usr/local/lib/python3.11/dist-packages (from jsonschema>=2.6->nbformat->notebook>=4.4.1->widgetsnbextension~=3.6.0->ipywidgets) (2024.10.1)\n",
            "Requirement already satisfied: referencing>=0.28.4 in /usr/local/lib/python3.11/dist-packages (from jsonschema>=2.6->nbformat->notebook>=4.4.1->widgetsnbextension~=3.6.0->ipywidgets) (0.36.2)\n",
            "Requirement already satisfied: rpds-py>=0.7.1 in /usr/local/lib/python3.11/dist-packages (from jsonschema>=2.6->nbformat->notebook>=4.4.1->widgetsnbextension~=3.6.0->ipywidgets) (0.22.3)\n",
            "Requirement already satisfied: jupyter-server<3,>=1.8 in /usr/local/lib/python3.11/dist-packages (from notebook-shim>=0.2.3->nbclassic>=0.4.7->notebook>=4.4.1->widgetsnbextension~=3.6.0->ipywidgets) (1.24.0)\n",
            "Requirement already satisfied: cffi>=1.0.1 in /usr/local/lib/python3.11/dist-packages (from argon2-cffi-bindings->argon2-cffi->notebook>=4.4.1->widgetsnbextension~=3.6.0->ipywidgets) (1.17.1)\n",
            "Requirement already satisfied: soupsieve>1.2 in /usr/local/lib/python3.11/dist-packages (from beautifulsoup4->nbconvert>=5->notebook>=4.4.1->widgetsnbextension~=3.6.0->ipywidgets) (2.6)\n",
            "Requirement already satisfied: pycparser in /usr/local/lib/python3.11/dist-packages (from cffi>=1.0.1->argon2-cffi-bindings->argon2-cffi->notebook>=4.4.1->widgetsnbextension~=3.6.0->ipywidgets) (2.22)\n",
            "Requirement already satisfied: anyio<4,>=3.1.0 in /usr/local/lib/python3.11/dist-packages (from jupyter-server<3,>=1.8->notebook-shim>=0.2.3->nbclassic>=0.4.7->notebook>=4.4.1->widgetsnbextension~=3.6.0->ipywidgets) (3.7.1)\n",
            "Requirement already satisfied: websocket-client in /usr/local/lib/python3.11/dist-packages (from jupyter-server<3,>=1.8->notebook-shim>=0.2.3->nbclassic>=0.4.7->notebook>=4.4.1->widgetsnbextension~=3.6.0->ipywidgets) (1.8.0)\n",
            "Downloading gTTS-2.5.4-py3-none-any.whl (29 kB)\n",
            "Downloading SpeechRecognition-3.14.1-py3-none-any.whl (32.9 MB)\n",
            "\u001b[2K   \u001b[90m━━━━━━━━━━━━━━━━━━━━━━━━━━━━━━━━━━━━━━━━\u001b[0m \u001b[32m32.9/32.9 MB\u001b[0m \u001b[31m43.6 MB/s\u001b[0m eta \u001b[36m0:00:00\u001b[0m\n",
            "\u001b[?25hDownloading jedi-0.19.2-py2.py3-none-any.whl (1.6 MB)\n",
            "\u001b[2K   \u001b[90m━━━━━━━━━━━━━━━━━━━━━━━━━━━━━━━━━━━━━━━━\u001b[0m \u001b[32m1.6/1.6 MB\u001b[0m \u001b[31m58.8 MB/s\u001b[0m eta \u001b[36m0:00:00\u001b[0m\n",
            "\u001b[?25hBuilding wheels for collected packages: pyaudio\n",
            "  \u001b[1;31merror\u001b[0m: \u001b[1msubprocess-exited-with-error\u001b[0m\n",
            "  \n",
            "  \u001b[31m×\u001b[0m \u001b[32mBuilding wheel for pyaudio \u001b[0m\u001b[1;32m(\u001b[0m\u001b[32mpyproject.toml\u001b[0m\u001b[1;32m)\u001b[0m did not run successfully.\n",
            "  \u001b[31m│\u001b[0m exit code: \u001b[1;36m1\u001b[0m\n",
            "  \u001b[31m╰─>\u001b[0m See above for output.\n",
            "  \n",
            "  \u001b[1;35mnote\u001b[0m: This error originates from a subprocess, and is likely not a problem with pip.\n",
            "  Building wheel for pyaudio (pyproject.toml) ... \u001b[?25l\u001b[?25herror\n",
            "\u001b[31m  ERROR: Failed building wheel for pyaudio\u001b[0m\u001b[31m\n",
            "\u001b[0mFailed to build pyaudio\n",
            "\u001b[31mERROR: ERROR: Failed to build installable wheels for some pyproject.toml based projects (pyaudio)\u001b[0m\u001b[31m\n",
            "\u001b[0m"
          ]
        }
      ]
    },
    {
      "cell_type": "code",
      "source": [
        "!pip install googletrans==4.0.0-rc1 gtts ipywidgets\n"
      ],
      "metadata": {
        "colab": {
          "base_uri": "https://localhost:8080/"
        },
        "id": "CHsI4MaYX7gk",
        "outputId": "f6e0a1a3-c4b9-4031-ac66-a72f02302bb6"
      },
      "execution_count": 8,
      "outputs": [
        {
          "output_type": "stream",
          "name": "stdout",
          "text": [
            "Requirement already satisfied: googletrans==4.0.0-rc1 in /usr/local/lib/python3.11/dist-packages (4.0.0rc1)\n",
            "Collecting gtts\n",
            "  Using cached gTTS-2.5.4-py3-none-any.whl.metadata (4.1 kB)\n",
            "Requirement already satisfied: ipywidgets in /usr/local/lib/python3.11/dist-packages (7.7.1)\n",
            "Requirement already satisfied: httpx==0.13.3 in /usr/local/lib/python3.11/dist-packages (from googletrans==4.0.0-rc1) (0.13.3)\n",
            "Requirement already satisfied: certifi in /usr/local/lib/python3.11/dist-packages (from httpx==0.13.3->googletrans==4.0.0-rc1) (2024.12.14)\n",
            "Requirement already satisfied: hstspreload in /usr/local/lib/python3.11/dist-packages (from httpx==0.13.3->googletrans==4.0.0-rc1) (2025.1.1)\n",
            "Requirement already satisfied: sniffio in /usr/local/lib/python3.11/dist-packages (from httpx==0.13.3->googletrans==4.0.0-rc1) (1.3.1)\n",
            "Requirement already satisfied: chardet==3.* in /usr/local/lib/python3.11/dist-packages (from httpx==0.13.3->googletrans==4.0.0-rc1) (3.0.4)\n",
            "Requirement already satisfied: idna==2.* in /usr/local/lib/python3.11/dist-packages (from httpx==0.13.3->googletrans==4.0.0-rc1) (2.10)\n",
            "Requirement already satisfied: rfc3986<2,>=1.3 in /usr/local/lib/python3.11/dist-packages (from httpx==0.13.3->googletrans==4.0.0-rc1) (1.5.0)\n",
            "Requirement already satisfied: httpcore==0.9.* in /usr/local/lib/python3.11/dist-packages (from httpx==0.13.3->googletrans==4.0.0-rc1) (0.9.1)\n",
            "Requirement already satisfied: h11<0.10,>=0.8 in /usr/local/lib/python3.11/dist-packages (from httpcore==0.9.*->httpx==0.13.3->googletrans==4.0.0-rc1) (0.9.0)\n",
            "Requirement already satisfied: h2==3.* in /usr/local/lib/python3.11/dist-packages (from httpcore==0.9.*->httpx==0.13.3->googletrans==4.0.0-rc1) (3.2.0)\n",
            "Requirement already satisfied: hyperframe<6,>=5.2.0 in /usr/local/lib/python3.11/dist-packages (from h2==3.*->httpcore==0.9.*->httpx==0.13.3->googletrans==4.0.0-rc1) (5.2.0)\n",
            "Requirement already satisfied: hpack<4,>=3.0 in /usr/local/lib/python3.11/dist-packages (from h2==3.*->httpcore==0.9.*->httpx==0.13.3->googletrans==4.0.0-rc1) (3.0.0)\n",
            "Requirement already satisfied: requests<3,>=2.27 in /usr/local/lib/python3.11/dist-packages (from gtts) (2.32.3)\n",
            "Requirement already satisfied: click<8.2,>=7.1 in /usr/local/lib/python3.11/dist-packages (from gtts) (8.1.8)\n",
            "Requirement already satisfied: ipykernel>=4.5.1 in /usr/local/lib/python3.11/dist-packages (from ipywidgets) (5.5.6)\n",
            "Requirement already satisfied: ipython-genutils~=0.2.0 in /usr/local/lib/python3.11/dist-packages (from ipywidgets) (0.2.0)\n",
            "Requirement already satisfied: traitlets>=4.3.1 in /usr/local/lib/python3.11/dist-packages (from ipywidgets) (5.7.1)\n",
            "Requirement already satisfied: widgetsnbextension~=3.6.0 in /usr/local/lib/python3.11/dist-packages (from ipywidgets) (3.6.10)\n",
            "Requirement already satisfied: ipython>=4.0.0 in /usr/local/lib/python3.11/dist-packages (from ipywidgets) (7.34.0)\n",
            "Requirement already satisfied: jupyterlab-widgets>=1.0.0 in /usr/local/lib/python3.11/dist-packages (from ipywidgets) (3.0.13)\n",
            "Requirement already satisfied: jupyter-client in /usr/local/lib/python3.11/dist-packages (from ipykernel>=4.5.1->ipywidgets) (6.1.12)\n",
            "Requirement already satisfied: tornado>=4.2 in /usr/local/lib/python3.11/dist-packages (from ipykernel>=4.5.1->ipywidgets) (6.4.2)\n",
            "Requirement already satisfied: setuptools>=18.5 in /usr/local/lib/python3.11/dist-packages (from ipython>=4.0.0->ipywidgets) (75.1.0)\n",
            "Collecting jedi>=0.16 (from ipython>=4.0.0->ipywidgets)\n",
            "  Using cached jedi-0.19.2-py2.py3-none-any.whl.metadata (22 kB)\n",
            "Requirement already satisfied: decorator in /usr/local/lib/python3.11/dist-packages (from ipython>=4.0.0->ipywidgets) (4.4.2)\n",
            "Requirement already satisfied: pickleshare in /usr/local/lib/python3.11/dist-packages (from ipython>=4.0.0->ipywidgets) (0.7.5)\n",
            "Requirement already satisfied: prompt-toolkit!=3.0.0,!=3.0.1,<3.1.0,>=2.0.0 in /usr/local/lib/python3.11/dist-packages (from ipython>=4.0.0->ipywidgets) (3.0.50)\n",
            "Requirement already satisfied: pygments in /usr/local/lib/python3.11/dist-packages (from ipython>=4.0.0->ipywidgets) (2.18.0)\n",
            "Requirement already satisfied: backcall in /usr/local/lib/python3.11/dist-packages (from ipython>=4.0.0->ipywidgets) (0.2.0)\n",
            "Requirement already satisfied: matplotlib-inline in /usr/local/lib/python3.11/dist-packages (from ipython>=4.0.0->ipywidgets) (0.1.7)\n",
            "Requirement already satisfied: pexpect>4.3 in /usr/local/lib/python3.11/dist-packages (from ipython>=4.0.0->ipywidgets) (4.9.0)\n",
            "Requirement already satisfied: charset-normalizer<4,>=2 in /usr/local/lib/python3.11/dist-packages (from requests<3,>=2.27->gtts) (3.4.1)\n",
            "Requirement already satisfied: urllib3<3,>=1.21.1 in /usr/local/lib/python3.11/dist-packages (from requests<3,>=2.27->gtts) (2.3.0)\n",
            "Requirement already satisfied: notebook>=4.4.1 in /usr/local/lib/python3.11/dist-packages (from widgetsnbextension~=3.6.0->ipywidgets) (6.5.5)\n",
            "Requirement already satisfied: parso<0.9.0,>=0.8.4 in /usr/local/lib/python3.11/dist-packages (from jedi>=0.16->ipython>=4.0.0->ipywidgets) (0.8.4)\n",
            "Requirement already satisfied: jinja2 in /usr/local/lib/python3.11/dist-packages (from notebook>=4.4.1->widgetsnbextension~=3.6.0->ipywidgets) (3.1.5)\n",
            "Requirement already satisfied: pyzmq<25,>=17 in /usr/local/lib/python3.11/dist-packages (from notebook>=4.4.1->widgetsnbextension~=3.6.0->ipywidgets) (24.0.1)\n",
            "Requirement already satisfied: argon2-cffi in /usr/local/lib/python3.11/dist-packages (from notebook>=4.4.1->widgetsnbextension~=3.6.0->ipywidgets) (23.1.0)\n",
            "Requirement already satisfied: jupyter-core>=4.6.1 in /usr/local/lib/python3.11/dist-packages (from notebook>=4.4.1->widgetsnbextension~=3.6.0->ipywidgets) (5.7.2)\n",
            "Requirement already satisfied: nbformat in /usr/local/lib/python3.11/dist-packages (from notebook>=4.4.1->widgetsnbextension~=3.6.0->ipywidgets) (5.10.4)\n",
            "Requirement already satisfied: nbconvert>=5 in /usr/local/lib/python3.11/dist-packages (from notebook>=4.4.1->widgetsnbextension~=3.6.0->ipywidgets) (7.16.6)\n",
            "Requirement already satisfied: nest-asyncio>=1.5 in /usr/local/lib/python3.11/dist-packages (from notebook>=4.4.1->widgetsnbextension~=3.6.0->ipywidgets) (1.6.0)\n",
            "Requirement already satisfied: Send2Trash>=1.8.0 in /usr/local/lib/python3.11/dist-packages (from notebook>=4.4.1->widgetsnbextension~=3.6.0->ipywidgets) (1.8.3)\n",
            "Requirement already satisfied: terminado>=0.8.3 in /usr/local/lib/python3.11/dist-packages (from notebook>=4.4.1->widgetsnbextension~=3.6.0->ipywidgets) (0.18.1)\n",
            "Requirement already satisfied: prometheus-client in /usr/local/lib/python3.11/dist-packages (from notebook>=4.4.1->widgetsnbextension~=3.6.0->ipywidgets) (0.21.1)\n",
            "Requirement already satisfied: nbclassic>=0.4.7 in /usr/local/lib/python3.11/dist-packages (from notebook>=4.4.1->widgetsnbextension~=3.6.0->ipywidgets) (1.2.0)\n",
            "Requirement already satisfied: python-dateutil>=2.1 in /usr/local/lib/python3.11/dist-packages (from jupyter-client->ipykernel>=4.5.1->ipywidgets) (2.8.2)\n",
            "Requirement already satisfied: ptyprocess>=0.5 in /usr/local/lib/python3.11/dist-packages (from pexpect>4.3->ipython>=4.0.0->ipywidgets) (0.7.0)\n",
            "Requirement already satisfied: wcwidth in /usr/local/lib/python3.11/dist-packages (from prompt-toolkit!=3.0.0,!=3.0.1,<3.1.0,>=2.0.0->ipython>=4.0.0->ipywidgets) (0.2.13)\n",
            "Requirement already satisfied: platformdirs>=2.5 in /usr/local/lib/python3.11/dist-packages (from jupyter-core>=4.6.1->notebook>=4.4.1->widgetsnbextension~=3.6.0->ipywidgets) (4.3.6)\n",
            "Requirement already satisfied: notebook-shim>=0.2.3 in /usr/local/lib/python3.11/dist-packages (from nbclassic>=0.4.7->notebook>=4.4.1->widgetsnbextension~=3.6.0->ipywidgets) (0.2.4)\n",
            "Requirement already satisfied: beautifulsoup4 in /usr/local/lib/python3.11/dist-packages (from nbconvert>=5->notebook>=4.4.1->widgetsnbextension~=3.6.0->ipywidgets) (4.12.3)\n",
            "Requirement already satisfied: bleach!=5.0.0 in /usr/local/lib/python3.11/dist-packages (from bleach[css]!=5.0.0->nbconvert>=5->notebook>=4.4.1->widgetsnbextension~=3.6.0->ipywidgets) (6.2.0)\n",
            "Requirement already satisfied: defusedxml in /usr/local/lib/python3.11/dist-packages (from nbconvert>=5->notebook>=4.4.1->widgetsnbextension~=3.6.0->ipywidgets) (0.7.1)\n",
            "Requirement already satisfied: jupyterlab-pygments in /usr/local/lib/python3.11/dist-packages (from nbconvert>=5->notebook>=4.4.1->widgetsnbextension~=3.6.0->ipywidgets) (0.3.0)\n",
            "Requirement already satisfied: markupsafe>=2.0 in /usr/local/lib/python3.11/dist-packages (from nbconvert>=5->notebook>=4.4.1->widgetsnbextension~=3.6.0->ipywidgets) (3.0.2)\n",
            "Requirement already satisfied: mistune<4,>=2.0.3 in /usr/local/lib/python3.11/dist-packages (from nbconvert>=5->notebook>=4.4.1->widgetsnbextension~=3.6.0->ipywidgets) (3.1.1)\n",
            "Requirement already satisfied: nbclient>=0.5.0 in /usr/local/lib/python3.11/dist-packages (from nbconvert>=5->notebook>=4.4.1->widgetsnbextension~=3.6.0->ipywidgets) (0.10.2)\n",
            "Requirement already satisfied: packaging in /usr/local/lib/python3.11/dist-packages (from nbconvert>=5->notebook>=4.4.1->widgetsnbextension~=3.6.0->ipywidgets) (24.2)\n",
            "Requirement already satisfied: pandocfilters>=1.4.1 in /usr/local/lib/python3.11/dist-packages (from nbconvert>=5->notebook>=4.4.1->widgetsnbextension~=3.6.0->ipywidgets) (1.5.1)\n",
            "Requirement already satisfied: fastjsonschema>=2.15 in /usr/local/lib/python3.11/dist-packages (from nbformat->notebook>=4.4.1->widgetsnbextension~=3.6.0->ipywidgets) (2.21.1)\n",
            "Requirement already satisfied: jsonschema>=2.6 in /usr/local/lib/python3.11/dist-packages (from nbformat->notebook>=4.4.1->widgetsnbextension~=3.6.0->ipywidgets) (4.23.0)\n",
            "Requirement already satisfied: six>=1.5 in /usr/local/lib/python3.11/dist-packages (from python-dateutil>=2.1->jupyter-client->ipykernel>=4.5.1->ipywidgets) (1.17.0)\n",
            "Requirement already satisfied: argon2-cffi-bindings in /usr/local/lib/python3.11/dist-packages (from argon2-cffi->notebook>=4.4.1->widgetsnbextension~=3.6.0->ipywidgets) (21.2.0)\n",
            "Requirement already satisfied: webencodings in /usr/local/lib/python3.11/dist-packages (from bleach!=5.0.0->bleach[css]!=5.0.0->nbconvert>=5->notebook>=4.4.1->widgetsnbextension~=3.6.0->ipywidgets) (0.5.1)\n",
            "Requirement already satisfied: tinycss2<1.5,>=1.1.0 in /usr/local/lib/python3.11/dist-packages (from bleach[css]!=5.0.0->nbconvert>=5->notebook>=4.4.1->widgetsnbextension~=3.6.0->ipywidgets) (1.4.0)\n",
            "Requirement already satisfied: attrs>=22.2.0 in /usr/local/lib/python3.11/dist-packages (from jsonschema>=2.6->nbformat->notebook>=4.4.1->widgetsnbextension~=3.6.0->ipywidgets) (25.1.0)\n",
            "Requirement already satisfied: jsonschema-specifications>=2023.03.6 in /usr/local/lib/python3.11/dist-packages (from jsonschema>=2.6->nbformat->notebook>=4.4.1->widgetsnbextension~=3.6.0->ipywidgets) (2024.10.1)\n",
            "Requirement already satisfied: referencing>=0.28.4 in /usr/local/lib/python3.11/dist-packages (from jsonschema>=2.6->nbformat->notebook>=4.4.1->widgetsnbextension~=3.6.0->ipywidgets) (0.36.2)\n",
            "Requirement already satisfied: rpds-py>=0.7.1 in /usr/local/lib/python3.11/dist-packages (from jsonschema>=2.6->nbformat->notebook>=4.4.1->widgetsnbextension~=3.6.0->ipywidgets) (0.22.3)\n",
            "Requirement already satisfied: jupyter-server<3,>=1.8 in /usr/local/lib/python3.11/dist-packages (from notebook-shim>=0.2.3->nbclassic>=0.4.7->notebook>=4.4.1->widgetsnbextension~=3.6.0->ipywidgets) (1.24.0)\n",
            "Requirement already satisfied: cffi>=1.0.1 in /usr/local/lib/python3.11/dist-packages (from argon2-cffi-bindings->argon2-cffi->notebook>=4.4.1->widgetsnbextension~=3.6.0->ipywidgets) (1.17.1)\n",
            "Requirement already satisfied: soupsieve>1.2 in /usr/local/lib/python3.11/dist-packages (from beautifulsoup4->nbconvert>=5->notebook>=4.4.1->widgetsnbextension~=3.6.0->ipywidgets) (2.6)\n",
            "Requirement already satisfied: pycparser in /usr/local/lib/python3.11/dist-packages (from cffi>=1.0.1->argon2-cffi-bindings->argon2-cffi->notebook>=4.4.1->widgetsnbextension~=3.6.0->ipywidgets) (2.22)\n",
            "Requirement already satisfied: anyio<4,>=3.1.0 in /usr/local/lib/python3.11/dist-packages (from jupyter-server<3,>=1.8->notebook-shim>=0.2.3->nbclassic>=0.4.7->notebook>=4.4.1->widgetsnbextension~=3.6.0->ipywidgets) (3.7.1)\n",
            "Requirement already satisfied: websocket-client in /usr/local/lib/python3.11/dist-packages (from jupyter-server<3,>=1.8->notebook-shim>=0.2.3->nbclassic>=0.4.7->notebook>=4.4.1->widgetsnbextension~=3.6.0->ipywidgets) (1.8.0)\n",
            "Requirement already satisfied: typing-extensions>=4.4.0 in /usr/local/lib/python3.11/dist-packages (from referencing>=0.28.4->jsonschema>=2.6->nbformat->notebook>=4.4.1->widgetsnbextension~=3.6.0->ipywidgets) (4.12.2)\n",
            "Using cached gTTS-2.5.4-py3-none-any.whl (29 kB)\n",
            "Using cached jedi-0.19.2-py2.py3-none-any.whl (1.6 MB)\n",
            "Installing collected packages: jedi, gtts\n",
            "Successfully installed gtts-2.5.4 jedi-0.19.2\n"
          ]
        }
      ]
    },
    {
      "cell_type": "code",
      "source": [
        "!pip install SpeechRecognition\n",
        "!pip install gTTS\n",
        "!pip install pydub\n",
        "!apt-get install -y ffmpeg\n",
        "\n"
      ],
      "metadata": {
        "colab": {
          "base_uri": "https://localhost:8080/"
        },
        "id": "Y5rQaFmTYJsH",
        "outputId": "d9e1dac5-6ccb-4623-8201-ec204ab2fcd8"
      },
      "execution_count": 14,
      "outputs": [
        {
          "output_type": "stream",
          "name": "stdout",
          "text": [
            "Requirement already satisfied: SpeechRecognition in /usr/local/lib/python3.11/dist-packages (3.14.1)\n",
            "Requirement already satisfied: typing-extensions in /usr/local/lib/python3.11/dist-packages (from SpeechRecognition) (4.12.2)\n",
            "Requirement already satisfied: gTTS in /usr/local/lib/python3.11/dist-packages (2.5.4)\n",
            "Requirement already satisfied: requests<3,>=2.27 in /usr/local/lib/python3.11/dist-packages (from gTTS) (2.32.3)\n",
            "Requirement already satisfied: click<8.2,>=7.1 in /usr/local/lib/python3.11/dist-packages (from gTTS) (8.1.8)\n",
            "Requirement already satisfied: charset-normalizer<4,>=2 in /usr/local/lib/python3.11/dist-packages (from requests<3,>=2.27->gTTS) (3.4.1)\n",
            "Requirement already satisfied: idna<4,>=2.5 in /usr/local/lib/python3.11/dist-packages (from requests<3,>=2.27->gTTS) (2.10)\n",
            "Requirement already satisfied: urllib3<3,>=1.21.1 in /usr/local/lib/python3.11/dist-packages (from requests<3,>=2.27->gTTS) (2.3.0)\n",
            "Requirement already satisfied: certifi>=2017.4.17 in /usr/local/lib/python3.11/dist-packages (from requests<3,>=2.27->gTTS) (2024.12.14)\n",
            "Collecting pydub\n",
            "  Downloading pydub-0.25.1-py2.py3-none-any.whl.metadata (1.4 kB)\n",
            "Downloading pydub-0.25.1-py2.py3-none-any.whl (32 kB)\n",
            "Installing collected packages: pydub\n",
            "Successfully installed pydub-0.25.1\n",
            "Reading package lists... Done\n",
            "Building dependency tree... Done\n",
            "Reading state information... Done\n",
            "ffmpeg is already the newest version (7:4.4.2-0ubuntu0.22.04.1).\n",
            "0 upgraded, 0 newly installed, 0 to remove and 18 not upgraded.\n"
          ]
        }
      ]
    },
    {
      "cell_type": "code",
      "source": [],
      "metadata": {
        "id": "CHJsinJCah9n"
      },
      "execution_count": null,
      "outputs": []
    },
    {
      "cell_type": "code",
      "execution_count": 21,
      "metadata": {
        "colab": {
          "base_uri": "https://localhost:8080/",
          "height": 729,
          "referenced_widgets": [
            "04266c64351d405e92d53c77d415c690",
            "48aea5a382174b1b8ef53a0497d7aef0",
            "22d6351f0b144f9c9cd526be60f8f9f8",
            "2901a77747e14ac09a9867ef3c6b5d91",
            "852c9c623153429b8ae28ae992534729",
            "5a033640cdf04c91bfdb76d020558a10",
            "eb9fe6aabbde40f08a7db4320fc5a41a",
            "bc959a1271e9482081f9391635c30a74",
            "97bd9196be3e4a43af3e24cc5a8d5752",
            "4ef04cb3b0ba4f15b998d36ba97803fb",
            "f87d66840b014efcb96bf438ba5ce65a",
            "f0ac2182e28d459199195c5862a7d836",
            "3df38294a9234ff3baa88814efbd6fc5",
            "5158309aa6f34289ae2f5dd8f292d06e",
            "ae55281bde9c4b70ab9eeff8c54c1b5d"
          ]
        },
        "id": "OcDpd94GTsA_",
        "outputId": "d8f4c7c2-620e-4de4-c8b3-9e21b73a414c"
      },
      "outputs": [
        {
          "output_type": "display_data",
          "data": {
            "text/plain": [
              "Dropdown(description='From:', options=(('English', 'en'), ('Urdu', 'ur'), ('Hindi', 'hi')), value='en')"
            ],
            "application/vnd.jupyter.widget-view+json": {
              "version_major": 2,
              "version_minor": 0,
              "model_id": "04266c64351d405e92d53c77d415c690"
            }
          },
          "metadata": {}
        },
        {
          "output_type": "display_data",
          "data": {
            "text/plain": [
              "Dropdown(description='To:', options=(('Urdu', 'ur'), ('Hindi', 'hi'), ('English', 'en')), value='ur')"
            ],
            "application/vnd.jupyter.widget-view+json": {
              "version_major": 2,
              "version_minor": 0,
              "model_id": "2901a77747e14ac09a9867ef3c6b5d91"
            }
          },
          "metadata": {}
        },
        {
          "output_type": "display_data",
          "data": {
            "text/plain": [
              "Textarea(value='', layout=Layout(height='100px', width='100%'), placeholder='Enter text to translate...')"
            ],
            "application/vnd.jupyter.widget-view+json": {
              "version_major": 2,
              "version_minor": 0,
              "model_id": "eb9fe6aabbde40f08a7db4320fc5a41a"
            }
          },
          "metadata": {}
        },
        {
          "output_type": "display_data",
          "data": {
            "text/plain": [
              "Button(button_style='success', description='Translate', style=ButtonStyle())"
            ],
            "application/vnd.jupyter.widget-view+json": {
              "version_major": 2,
              "version_minor": 0,
              "model_id": "4ef04cb3b0ba4f15b998d36ba97803fb"
            }
          },
          "metadata": {}
        },
        {
          "output_type": "display_data",
          "data": {
            "text/plain": [
              "Label(value='')"
            ],
            "application/vnd.jupyter.widget-view+json": {
              "version_major": 2,
              "version_minor": 0,
              "model_id": "3df38294a9234ff3baa88814efbd6fc5"
            }
          },
          "metadata": {}
        },
        {
          "output_type": "display_data",
          "data": {
            "text/plain": [
              "<IPython.lib.display.Audio object>"
            ],
            "text/html": [
              "\n",
              "                <audio  controls=\"controls\" autoplay=\"autoplay\">\n",
              "                    <source src=\"data:audio/mpeg;base64,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\" type=\"audio/mpeg\" />\n",
              "                    Your browser does not support the audio element.\n",
              "                </audio>\n",
              "              "
            ]
          },
          "metadata": {}
        },
        {
          "output_type": "display_data",
          "data": {
            "text/plain": [
              "<IPython.lib.display.Audio object>"
            ],
            "text/html": [
              "\n",
              "                <audio  controls=\"controls\" autoplay=\"autoplay\">\n",
              "                    <source src=\"data:audio/mpeg;base64,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\" type=\"audio/mpeg\" />\n",
              "                    Your browser does not support the audio element.\n",
              "                </audio>\n",
              "              "
            ]
          },
          "metadata": {}
        },
        {
          "output_type": "display_data",
          "data": {
            "text/plain": [
              "<IPython.lib.display.Audio object>"
            ],
            "text/html": [
              "\n",
              "                <audio  controls=\"controls\" autoplay=\"autoplay\">\n",
              "                    <source src=\"data:audio/mpeg;base64,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\" type=\"audio/mpeg\" />\n",
              "                    Your browser does not support the audio element.\n",
              "                </audio>\n",
              "              "
            ]
          },
          "metadata": {}
        },
        {
          "output_type": "display_data",
          "data": {
            "text/plain": [
              "<IPython.lib.display.Audio object>"
            ],
            "text/html": [
              "\n",
              "                <audio  controls=\"controls\" autoplay=\"autoplay\">\n",
              "                    <source src=\"data:audio/mpeg;base64,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\" type=\"audio/mpeg\" />\n",
              "                    Your browser does not support the audio element.\n",
              "                </audio>\n",
              "              "
            ]
          },
          "metadata": {}
        },
        {
          "output_type": "display_data",
          "data": {
            "text/plain": [
              "<IPython.lib.display.Audio object>"
            ],
            "text/html": [
              "\n",
              "                <audio  controls=\"controls\" autoplay=\"autoplay\">\n",
              "                    <source src=\"data:audio/mpeg;base64,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\" type=\"audio/mpeg\" />\n",
              "                    Your browser does not support the audio element.\n",
              "                </audio>\n",
              "              "
            ]
          },
          "metadata": {}
        },
        {
          "output_type": "display_data",
          "data": {
            "text/plain": [
              "<IPython.lib.display.Audio object>"
            ],
            "text/html": [
              "\n",
              "                <audio  controls=\"controls\" autoplay=\"autoplay\">\n",
              "                    <source src=\"data:audio/mpeg;base64,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\" type=\"audio/mpeg\" />\n",
              "                    Your browser does not support the audio element.\n",
              "                </audio>\n",
              "              "
            ]
          },
          "metadata": {}
        },
        {
          "output_type": "display_data",
          "data": {
            "text/plain": [
              "<IPython.lib.display.Audio object>"
            ],
            "text/html": [
              "\n",
              "                <audio  controls=\"controls\" autoplay=\"autoplay\">\n",
              "                    <source src=\"data:audio/mpeg;base64,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\" type=\"audio/mpeg\" />\n",
              "                    Your browser does not support the audio element.\n",
              "                </audio>\n",
              "              "
            ]
          },
          "metadata": {}
        },
        {
          "output_type": "display_data",
          "data": {
            "text/plain": [
              "<IPython.lib.display.Audio object>"
            ],
            "text/html": [
              "\n",
              "                <audio  controls=\"controls\" autoplay=\"autoplay\">\n",
              "                    <source src=\"data:audio/mpeg;base64,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\" type=\"audio/mpeg\" />\n",
              "                    Your browser does not support the audio element.\n",
              "                </audio>\n",
              "              "
            ]
          },
          "metadata": {}
        }
      ],
      "source": [
        "import os\n",
        "import time\n",
        "import numpy as np\n",
        "import googletrans\n",
        "import speech_recognition as sr\n",
        "import ipywidgets as widgets\n",
        "import threading\n",
        "import queue\n",
        "from googletrans import Translator\n",
        "from gtts import gTTS\n",
        "from IPython.display import display, Audio\n",
        "import matplotlib.pyplot as plt\n",
        "import matplotlib.animation as animation\n",
        "\n",
        "# ------------------------------- TEXT TRANSLATION ------------------------------- #\n",
        "def translate_text(text, src_lang, dest_lang):\n",
        "    try:\n",
        "        translator = Translator()\n",
        "        translated = translator.translate(text, src=src_lang, dest=dest_lang)\n",
        "        return translated.text\n",
        "    except Exception as e:\n",
        "        return f\"Translation Error: {e}\"\n",
        "\n",
        "def speak_text(text, lang):\n",
        "    \"\"\"Converts translated text to speech and plays it.\"\"\"\n",
        "    try:\n",
        "        tts = gTTS(text=text, lang=lang)\n",
        "        tts.save(\"output.mp3\")\n",
        "        display(Audio(\"output.mp3\", autoplay=True))\n",
        "    except Exception as e:\n",
        "        print(\"Speech Synthesis Error:\", e)\n",
        "\n",
        "# ------------------------------- UI HANDLER ------------------------------- #\n",
        "def translate_and_display(_):\n",
        "    \"\"\"Handles translation logic and updates UI.\"\"\"\n",
        "    src_lang = lang_dropdown.value\n",
        "    dest_lang = to_translate_dropdown.value\n",
        "    text = text_input.value\n",
        "\n",
        "    if text:\n",
        "        translated_text = translate_text(text, src_lang, dest_lang)\n",
        "        output_label.value = f\"Translated Text ({dest_lang}): {translated_text}\"\n",
        "        speak_text(translated_text, dest_lang)\n",
        "    else:\n",
        "        output_label.value = \"Please enter text.\"\n",
        "\n",
        "# ------------------------------- UI COMPONENTS ------------------------------- #\n",
        "lang_dropdown = widgets.Dropdown(\n",
        "    options=[('English', 'en'), ('Urdu', 'ur'), ('Hindi', 'hi')],\n",
        "    description='From:',\n",
        "    value='en'\n",
        ")\n",
        "\n",
        "to_translate_dropdown = widgets.Dropdown(\n",
        "    options=[('Urdu', 'ur'), ('Hindi', 'hi'), ('English', 'en')],\n",
        "    description='To:',\n",
        "    value='ur'\n",
        ")\n",
        "\n",
        "text_input = widgets.Textarea(\n",
        "    placeholder='Enter text to translate...',\n",
        "    layout=widgets.Layout(width='100%', height='100px')\n",
        ")\n",
        "\n",
        "translate_button = widgets.Button(\n",
        "    description='Translate',\n",
        "    button_style='success'\n",
        ")\n",
        "translate_button.on_click(translate_and_display)\n",
        "\n",
        "output_label = widgets.Label()\n",
        "\n",
        "# ------------------------------- DISPLAY UI ------------------------------- #\n",
        "display(lang_dropdown, to_translate_dropdown, text_input, translate_button, output_label)\n"
      ]
    }
  ]
}